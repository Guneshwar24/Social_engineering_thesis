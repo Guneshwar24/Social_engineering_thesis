{
 "cells": [
  {
   "cell_type": "markdown",
   "metadata": {},
   "source": [
    "## Analysis of Click-Through Rates with Enhanced Filtering"
   ]
  },
  {
   "cell_type": "code",
   "execution_count": 1,
   "metadata": {},
   "outputs": [],
   "source": [
    "import matplotlib.pyplot as plt\n",
    "import matplotlib.ticker as mtick\n",
    "import seaborn as sns\n",
    "import numpy as np\n",
    "import pandas as pd\n",
    "from scipy.stats import chi2_contingency\n",
    "from pathlib import Path\n",
    "import json # Though not directly used in analyze_files_for_link_and_stage, it's good practice if dealing with json content"
   ]
  },
  {
   "cell_type": "code",
   "execution_count": 2,
   "metadata": {},
   "outputs": [],
   "source": [
    "def analyze_files_for_link_and_stage(directory, link_search_term, stage_keywords_list, directory_label):\n",
    "    \"\"\"\n",
    "    Analyzes conversation.json files for a specific link search term AND at least one\n",
    "    of the specified stage keywords. Returns a list of records for DataFrame creation.\n",
    "\n",
    "    Args:\n",
    "        directory (str): The path to the directory to search.\n",
    "        link_search_term (str): The primary string to look for.\n",
    "        stage_keywords_list (list): A list of stage keywords.\n",
    "        directory_label (str): A label for this directory (e.g., 'with_dt', 'without_dt').\n",
    "\n",
    "    Returns:\n",
    "        list: A list of dictionaries, where each dictionary contains details of a processed file.\n",
    "    \"\"\"\n",
    "    processed_files_records = []\n",
    "    base_path = Path(directory)\n",
    "    total_files_processed = 0\n",
    "\n",
    "    if not link_search_term or not stage_keywords_list:\n",
    "        print(f\"Warning: Link search term or stage keywords list is empty for directory: {directory_label}.\")\n",
    "        return []\n",
    "\n",
    "    if not base_path.is_dir():\n",
    "        print(f\"Error: Directory not found: {directory}\")\n",
    "        return []\n",
    "\n",
    "    stage_keywords_str_display = \" OR \".join([f\"'{term}'\" for term in stage_keywords_list])\n",
    "    print(f\"Analyzing in '{directory_label}' ({directory}) for files containing '{link_search_term}' AND ({stage_keywords_str_display})...\")\n",
    "\n",
    "    for file_path in base_path.rglob('conversation.json'):\n",
    "        if file_path.is_file():\n",
    "            total_files_processed += 1\n",
    "            session_id = file_path.parent.name # Assuming parent folder is the session ID\n",
    "            record = {\n",
    "                'session_id': session_id,\n",
    "                'directory_label': directory_label,\n",
    "                'file_path': str(file_path),\n",
    "                'link_term_present': False,\n",
    "                'stage_keyword_present': False,\n",
    "                'specific_stage_keyword_found': None,\n",
    "                'meets_criteria': False,\n",
    "                'error_processing': None\n",
    "            }\n",
    "            \n",
    "            try:\n",
    "                content = file_path.read_text(encoding='utf-8')\n",
    "                \n",
    "                if link_search_term in content:\n",
    "                    record['link_term_present'] = True\n",
    "\n",
    "                if record['link_term_present']:\n",
    "                    for stage_keyword in stage_keywords_list:\n",
    "                        if stage_keyword in content:\n",
    "                            record['stage_keyword_present'] = True\n",
    "                            record['specific_stage_keyword_found'] = stage_keyword\n",
    "                            break \n",
    "                \n",
    "                if record['link_term_present'] and record['stage_keyword_present']:\n",
    "                    record['meets_criteria'] = True\n",
    "            \n",
    "            except UnicodeDecodeError:\n",
    "                record['error_processing'] = \"UnicodeDecodeError\"\n",
    "            except IOError as e:\n",
    "                record['error_processing'] = f\"IOError: {e}\"\n",
    "            except Exception as e:\n",
    "                record['error_processing'] = f\"Unexpected error: {e}\"\n",
    "            \n",
    "            processed_files_records.append(record)\n",
    "\n",
    "    print(f\"  -> Analyzed {total_files_processed} 'conversation.json' files in '{directory_label}'. Found {len([r for r in processed_files_records if r['meets_criteria']])} matching sessions.\")\n",
    "    return processed_files_records"
   ]
  },
  {
   "cell_type": "code",
   "execution_count": 3,
   "metadata": {},
   "outputs": [],
   "source": [
    "# --- Configuration ---\n",
    "main_data_file = \"combined_conversation_analysis.csv\"\n",
    "output_filtered_file = \"click_df_filtered.csv\"\n",
    "\n",
    "directory_with_dt = \"../data_output\"\n",
    "directory_without_dt = \"../data_output_wout_twin\"\n",
    "link_term_to_search = \"youtube.com/\"\n",
    "stage_keywords_to_search = ['LINK_INTRODUCTION', 'LINK_REINFORCEMENT', 'SESSION_COMPLETION']"
   ]
  },
  {
   "cell_type": "code",
   "execution_count": 4,
   "metadata": {},
   "outputs": [
    {
     "name": "stdout",
     "output_type": "stream",
     "text": [
      "Analyzing in 'with_dt' (../data_output) for files containing 'youtube.com/' AND ('LINK_INTRODUCTION' OR 'LINK_REINFORCEMENT' OR 'SESSION_COMPLETION')...\n",
      "  -> Analyzed 41 'conversation.json' files in 'with_dt'. Found 22 matching sessions.\n",
      "Analyzing in 'without_dt' (../data_output_wout_twin) for files containing 'youtube.com/' AND ('LINK_INTRODUCTION' OR 'LINK_REINFORCEMENT' OR 'SESSION_COMPLETION')...\n",
      "  -> Analyzed 38 'conversation.json' files in 'without_dt'. Found 7 matching sessions.\n",
      "Total unique session IDs meeting criteria: 29\n"
     ]
    }
   ],
   "source": [
    "records_with_dt = analyze_files_for_link_and_stage(\n",
    "    directory_with_dt, \n",
    "    link_term_to_search, \n",
    "    stage_keywords_to_search, \n",
    "    'with_dt'\n",
    ")\n",
    "\n",
    "records_without_dt = analyze_files_for_link_and_stage(\n",
    "    directory_without_dt, \n",
    "    link_term_to_search, \n",
    "    stage_keywords_to_search, \n",
    "    'without_dt'\n",
    ")\n",
    "\n",
    "# Combine records and extract session IDs that meet the criteria\n",
    "all_relevant_records = records_with_dt + records_without_dt\n",
    "valid_session_ids = {record['session_id'] for record in all_relevant_records if record['meets_criteria']}\n",
    "print(f\"Total unique session IDs meeting criteria: {len(valid_session_ids)}\")"
   ]
  },
  {
   "cell_type": "markdown",
   "metadata": {},
   "source": [
    "### Step 2: Load main dataset and filter based on identified session IDs"
   ]
  },
  {
   "cell_type": "code",
   "execution_count": 5,
   "metadata": {},
   "outputs": [
    {
     "name": "stdout",
     "output_type": "stream",
     "text": [
      "Filtered data saved to click_df_filtered.csv. Shape: (29, 18)"
     ]
    },
    {
     "name": "stdout",
     "output_type": "stream",
     "text": [
      "\n"
     ]
    }
   ],
   "source": [
    "analysis_df = pd.DataFrame() # Initialize an empty DataFrame\n",
    "\n",
    "try:\n",
    "    full_main_df = pd.read_csv(main_data_file)\n",
    "    if not full_main_df.empty:\n",
    "        full_main_df['session_id'] = full_main_df['session_id'].astype(str) # Ensure session_id is string for matching\n",
    "        \n",
    "        # Filter based on the session IDs obtained from file analysis\n",
    "        analysis_df = full_main_df[full_main_df['session_id'].isin(valid_session_ids)].copy()\n",
    "        \n",
    "        if not analysis_df.empty:\n",
    "            analysis_df.to_csv(output_filtered_file, index=False)\n",
    "            print(f\"Filtered data saved to {output_filtered_file}. Shape: {analysis_df.shape}\")\n",
    "        else:\n",
    "            print(f\"Warning: No sessions from '{main_data_file}' matched the criteria from file analysis. Resulting DataFrame is empty.\")\n",
    "    else:\n",
    "        print(f\"Warning: Main data file '{main_data_file}' is empty.\")\n",
    "except FileNotFoundError:\n",
    "    print(f\"Error: Main data file '{main_data_file}' not found. Please ensure the file exists in the correct location.\")\n",
    "except Exception as e:\n",
    "    print(f\"Could not load or process '{main_data_file}': {e}\")"
   ]
  },
  {
   "cell_type": "markdown",
   "metadata": {},
   "source": [
    "### Step 3: Data Calculation and Statistical Test using Filtered Data"
   ]
  },
  {
   "cell_type": "code",
   "execution_count": 6,
   "metadata": {},
   "outputs": [
    {
     "name": "stdout",
     "output_type": "stream",
     "text": [
      "\n",
      "Contingency Table for Chi-squared Test (based on filtered data):\n",
      "          Clicked  Not Clicked  Total\n",
      "With DT      18          4        22  \n",
      "Without DT    3          4         7  \n",
      "\n",
      "Chi-squared Test Results: chi2=4.035, p-value=0.0446, dof=1\n"
     ]
    }
   ],
   "source": [
    "p_value_text = \"p = N/A\" # Default text\n",
    "difference_text = \"Difference: N/A\"\n",
    "click_rates_persuasion = [np.nan, np.nan] # Default values: [With DT, Without DT/Control]\n",
    "\n",
    "if not analysis_df.empty:\n",
    "    # Ensure 'has_digital_twin' and 'clicked_link' columns exist\n",
    "    if 'has_digital_twin' not in analysis_df.columns or 'clicked_link' not in analysis_df.columns:\n",
    "        print(\"Error: The DataFrame is missing 'has_digital_twin' or 'clicked_link' columns.\")\n",
    "    else:\n",
    "        # Separate data into 'With Digital Twin' and 'Control Condition' (Without Digital Twin)\n",
    "        with_dt_df = analysis_df[analysis_df['has_digital_twin'] == True].copy()\n",
    "        without_dt_df = analysis_df[analysis_df['has_digital_twin'] == False].copy()\n",
    "\n",
    "        # Check if both groups have data\n",
    "        if not with_dt_df.empty and not without_dt_df.empty:\n",
    "            # Calculate click rates\n",
    "            rate_with_dt = with_dt_df['clicked_link'].mean()\n",
    "            rate_without_dt = without_dt_df['clicked_link'].mean()\n",
    "            click_rates_persuasion = [rate_with_dt, rate_without_dt]\n",
    "\n",
    "            # Calculate difference\n",
    "            difference = rate_with_dt - rate_without_dt\n",
    "            difference_text = f\"Difference: {difference:+.1%}\" # Format as signed percentage\n",
    "\n",
    "            # --- Perform Chi-squared Test ---\n",
    "            clicks_with_dt = with_dt_df['clicked_link'].sum()\n",
    "            total_with_dt = len(with_dt_df)\n",
    "            no_clicks_with_dt = total_with_dt - clicks_with_dt\n",
    "\n",
    "            clicks_without_dt = without_dt_df['clicked_link'].sum()\n",
    "            total_without_dt = len(without_dt_df)\n",
    "            no_clicks_without_dt = total_without_dt - clicks_without_dt\n",
    "\n",
    "            contingency_table = np.array([\n",
    "                [clicks_with_dt, no_clicks_with_dt],\n",
    "                [clicks_without_dt, no_clicks_without_dt]\n",
    "            ])\n",
    "\n",
    "            print(\"\\nContingency Table for Chi-squared Test (based on filtered data):\")\n",
    "            print(f\"          Clicked  Not Clicked  Total\")\n",
    "            print(f\"With DT    {clicks_with_dt:^7}  {no_clicks_with_dt:^11}  {total_with_dt:^5}\")\n",
    "            print(f\"Without DT {clicks_without_dt:^7}  {no_clicks_without_dt:^11}  {total_without_dt:^5}\\n\")\n",
    "\n",
    "            try:\n",
    "                 chi2, p, dof, expected = chi2_contingency(contingency_table, correction=False)\n",
    "                 if p < 0.001:\n",
    "                     p_value_text = \"p < 0.001\"\n",
    "                 else:\n",
    "                     p_value_text = f\"p = {p:.3f}\"\n",
    "                 print(f\"Chi-squared Test Results: chi2={chi2:.3f}, p-value={p:.4f}, dof={dof}\")\n",
    "            except ValueError as e: # Handles cases like all zeros in a row/column\n",
    "                 print(f\"Could not perform Chi-squared test: {e}\")\n",
    "                 p_value_text = \"p (test error)\"\n",
    "\n",
    "            difference_text = f\"{difference_text} ({p_value_text})\"\n",
    "\n",
    "        else:\n",
    "            print(\"Warning: One or both groups ('With DT', 'Without DT') are empty after filtering and separation. Cannot calculate difference or p-value.\")\n",
    "            if with_dt_df.empty: click_rates_persuasion[0] = 0.0\n",
    "            if without_dt_df.empty: click_rates_persuasion[1] = 0.0\n",
    "else:\n",
    "    print(\"Analysis DataFrame is empty. Skipping calculations and plotting.\")"
   ]
  },
  {
   "cell_type": "markdown",
   "metadata": {},
   "source": [
    "### Step 4: Plotting Results"
   ]
  },
  {
   "cell_type": "code",
   "execution_count": 7,
   "metadata": {},
   "outputs": [
    {
     "data": {
      "image/png": "[encoded data removed]",
      "text/plain": [
       "<Figure size 700x600 with 1 Axes>"
      ]
     },
     "metadata": {},
     "output_type": "display_data"
    }
   ],
   "source": [
    "sns.set_style(\"whitegrid\")\n",
    "\n",
    "fig, ax = plt.subplots(1, 1, figsize=(7, 6)) # Increased figure size slightly\n",
    "fig.suptitle('The Power of Prediction: Digital Twin Boosts Persuasive Effectiveness', fontsize=15, y=1.04)\n",
    "\n",
    "categories = ['With Digital Twin', 'Control Condition']\n",
    "colors = ['mediumseagreen', 'salmon']\n",
    "\n",
    "# Create the bars using calculated rates (or defaults if data was missing)\n",
    "bars = ax.bar(categories, click_rates_persuasion, color=colors, width=0.6)\n",
    "\n",
    "# --- Customize Appearance ---\n",
    "ax.set_title('Link Click-Through Rates Comparison (Filtered Data)', fontsize=13)\n",
    "ax.set_ylabel('Click-Through Rate', fontsize=11)\n",
    "ax.set_xlabel('Experimental Condition', fontsize=11)\n",
    "ax.yaxis.set_major_formatter(mtick.PercentFormatter(xmax=1.0))\n",
    "\n",
    "# Add bar labels, handle potential NaN values gracefully\n",
    "for bar in bars:\n",
    "    yval = bar.get_height()\n",
    "    if pd.notna(yval): # Check if the value is not NaN\n",
    "        ax.text(bar.get_x() + bar.get_width()/2.0, yval + 0.01, f'{yval:.1%}', ha='center', va='bottom', fontsize=10)\n",
    "    else:\n",
    "        ax.text(bar.get_x() + bar.get_width()/2.0, 0.01, 'N/A', ha='center', va='bottom', fontsize=10) # Display N/A for NaN\n",
    "        \n",
    "ax.set_ylim(0, max(0.1, np.nanmax(click_rates_persuasion) * 1.2 if pd.notna(click_rates_persuasion).any() else 0.1)) # Adjust y-limit dynamically, ensure at least 10%\n",
    "\n",
    "# Add the dynamically calculated difference text\n",
    "fig.text(0.5, -0.03, difference_text, ha='center', fontsize=11, style='italic', color='gray')\n",
    "\n",
    "plt.tight_layout(rect=[0, 0.05, 1, 0.95]) # Adjust rect to accommodate suptitle and custom text\n",
    "plt.show()"
   ]
  },
  {
   "cell_type": "code",
   "execution_count": null,
   "metadata": {},
   "outputs": [],
   "source": []
  }
 ],
 "metadata": {
  "kernelspec": {
   "display_name": ".venv",
   "language": "python",
   "name": "python3"
  },
  "language_info": {
   "codemirror_mode": {
    "name": "ipython",
    "version": 3
   },
   "file_extension": ".py",
   "mimetype": "text/x-python",
   "name": "python",
   "nbconvert_exporter": "python",
   "pygments_lexer": "ipython3",
   "version": "3.9.6"
  }
 },
 "nbformat": 4,
 "nbformat_minor": 2
}
